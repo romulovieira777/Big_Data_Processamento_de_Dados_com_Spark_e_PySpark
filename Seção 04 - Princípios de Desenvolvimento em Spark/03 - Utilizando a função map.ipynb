{
 "cells": [
  {
   "cell_type": "markdown",
   "metadata": {},
   "source": [
    "## Utilizando a função Map"
   ]
  },
  {
   "cell_type": "markdown",
   "metadata": {},
   "source": [
    "A função map() tem o objetivo de mapear valores, de forma a realizar transformações mais rapidamente, sem a necessidade de iterações. Essa característica é muito utilizada e útil no procesamento de Big Data, mais precisamente com o frameworks Hadoop Map Reduce e Spark  "
   ]
  },
  {
   "cell_type": "code",
   "execution_count": null,
   "metadata": {
    "collapsed": true
   },
   "outputs": [],
   "source": [
    "# Definindo uma lista de valores\n",
    "lista = [2, 4, 6, 8, 10]"
   ]
  },
  {
   "cell_type": "code",
   "execution_count": null,
   "metadata": {},
   "outputs": [],
   "source": [
    "# Imprimindo a lista\n",
    "print(lista)"
   ]
  },
  {
   "cell_type": "code",
   "execution_count": null,
   "metadata": {
    "collapsed": true
   },
   "outputs": [],
   "source": [
    "# Função simples, para somar mais 10 em cada número\n",
    "def soma_dez(num):\n",
    "    return num + 10"
   ]
  },
  {
   "cell_type": "code",
   "execution_count": null,
   "metadata": {},
   "outputs": [],
   "source": [
    "# Para aplicar a função definida acima, necessitamos criar um loop for para percorrer toda a lista\n",
    "for elemento in lista:\n",
    "    print(soma_dez(elemento))"
   ]
  },
  {
   "cell_type": "code",
   "execution_count": null,
   "metadata": {
    "collapsed": true
   },
   "outputs": [],
   "source": [
    "# Com a função map() esse processo é facilitado, e a função é MAPEADA sendo aplicada a cada elemento da lista, como um \n",
    "# mapeamento - ELEMENTO - VALOR\n",
    "lista_map = map(soma_dez, lista)"
   ]
  },
  {
   "cell_type": "code",
   "execution_count": null,
   "metadata": {},
   "outputs": [],
   "source": [
    "# A função msp() SEMPRE retorna um objeto iterável.\n",
    "print(lista_map)"
   ]
  },
  {
   "cell_type": "code",
   "execution_count": null,
   "metadata": {},
   "outputs": [],
   "source": [
    "# O objeto iterável pode ser convertido em lista, e assim podemos visualizar o seu conteúdo\n",
    "print(list(lista_map))"
   ]
  },
  {
   "cell_type": "markdown",
   "metadata": {},
   "source": [
    "## Outras aplicações"
   ]
  },
  {
   "cell_type": "code",
   "execution_count": null,
   "metadata": {},
   "outputs": [],
   "source": [
    "# Poderíamos por exemplo, criar um range de dados\n",
    "numeros = range(10)\n",
    "\n",
    "for n in numeros:\n",
    "    print(n)"
   ]
  },
  {
   "cell_type": "code",
   "execution_count": null,
   "metadata": {},
   "outputs": [],
   "source": [
    "# Para realizar um cast nos numeros, eu necessito outro for\n",
    "for n in numeros:\n",
    "    m = float(n)\n",
    "    print(m)"
   ]
  },
  {
   "cell_type": "markdown",
   "metadata": {},
   "source": [
    "# Podemos encurtar esses pares\n",
    "# Estou aplicando a função float() em cada elemento do range\n",
    "lista_map = map(float, range(10))"
   ]
  },
  {
   "cell_type": "code",
   "execution_count": null,
   "metadata": {},
   "outputs": [],
   "source": [
    "lista_map"
   ]
  },
  {
   "cell_type": "code",
   "execution_count": null,
   "metadata": {},
   "outputs": [],
   "source": [
    "print(list(lista_map))"
   ]
  },
  {
   "cell_type": "markdown",
   "metadata": {},
   "source": [
    "## Aninhando funções com MAP"
   ]
  },
  {
   "cell_type": "markdown",
   "metadata": {},
   "source": [
    "## Objetivo:"
   ]
  },
  {
   "cell_type": "markdown",
   "metadata": {},
   "source": [
    "## Imprimir os números pares de 0 a 1000, em uma única linha de código, convertendo para floats"
   ]
  },
  {
   "cell_type": "code",
   "execution_count": null,
   "metadata": {},
   "outputs": [],
   "source": [
    "# Passo 01 - Criar a lista\n",
    "lista = range(0, 1000, 2)\n",
    "\n",
    "lista"
   ]
  },
  {
   "cell_type": "code",
   "execution_count": null,
   "metadata": {},
   "outputs": [],
   "source": [
    "# Iterando a lista e convertendo\n",
    "for i in lista:\n",
    "    print(float(i))"
   ]
  },
  {
   "cell_type": "code",
   "execution_count": null,
   "metadata": {},
   "outputs": [],
   "source": [
    "# Utilizando Map\n",
    "print(list(map(float, range(0, 1000, 2))))"
   ]
  }
 ],
 "metadata": {
  "kernelspec": {
   "display_name": "Python 3",
   "language": "python",
   "name": "python3"
  },
  "language_info": {
   "codemirror_mode": {
    "name": "ipython",
    "version": 3
   },
   "file_extension": ".py",
   "mimetype": "text/x-python",
   "name": "python",
   "nbconvert_exporter": "python",
   "pygments_lexer": "ipython3",
   "version": "3.6.1"
  }
 },
 "nbformat": 4,
 "nbformat_minor": 2
}
