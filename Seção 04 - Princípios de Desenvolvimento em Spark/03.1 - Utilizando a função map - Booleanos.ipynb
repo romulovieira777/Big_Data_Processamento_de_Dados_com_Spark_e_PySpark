{
 "cells": [
  {
   "cell_type": "markdown",
   "metadata": {},
   "source": [
    "## Utilizando a função Map"
   ]
  },
  {
   "cell_type": "markdown",
   "metadata": {},
   "source": [
    "A função map() tem o objetivo de mapear valores, de forma a realizar transformações mais rapidamente, sem a necessidade de iterações. Essa característica é muito utilizada e útil no procesamento de Big Data, mais precisamente com o frameworks Hadoop Map Reduce e Spark "
   ]
  },
  {
   "cell_type": "code",
   "execution_count": null,
   "metadata": {
    "collapsed": true
   },
   "outputs": [],
   "source": [
    "# Definindo uma lista de valores\n",
    "lista = [1, 2, 4, 6, 7, 8, 10, 13]"
   ]
  },
  {
   "cell_type": "code",
   "execution_count": null,
   "metadata": {},
   "outputs": [],
   "source": [
    "# Imprimindo a lista\n",
    "lista"
   ]
  },
  {
   "cell_type": "code",
   "execution_count": null,
   "metadata": {
    "collapsed": true
   },
   "outputs": [],
   "source": [
    "# Função simples, para somar mais 10 em cada número\n",
    "def impar(num):\n",
    "    if num % 2 > 0:\n",
    "        return True\n",
    "    else:\n",
    "        return False"
   ]
  },
  {
   "cell_type": "code",
   "execution_count": null,
   "metadata": {},
   "outputs": [],
   "source": [
    "impar(20)"
   ]
  },
  {
   "cell_type": "code",
   "execution_count": null,
   "metadata": {},
   "outputs": [],
   "source": [
    "impar(lista)"
   ]
  },
  {
   "cell_type": "code",
   "execution_count": null,
   "metadata": {},
   "outputs": [],
   "source": [
    "# Para aplicar a função definida acima, necessitamos criar um loop for para percorrer toda a lista\n",
    "for elemento in lista:\n",
    "    print(impar(elemento))"
   ]
  },
  {
   "cell_type": "code",
   "execution_count": null,
   "metadata": {
    "collapsed": true
   },
   "outputs": [],
   "source": [
    "# Com a função map() esse processo é facilitado, e a fuñção é MAPEADA sendo aplicada a cada elemento da lista, como um\n",
    "# mapeamento - ELEMENTO - VALOR\n",
    "lista_map = map(impar, lista)"
   ]
  },
  {
   "cell_type": "code",
   "execution_count": null,
   "metadata": {},
   "outputs": [],
   "source": [
    "# A função map() SEMPRE retorna um objeto iterável\n",
    "print(list(lista_map))"
   ]
  }
 ],
 "metadata": {
  "kernelspec": {
   "display_name": "Python 3",
   "language": "python",
   "name": "python3"
  },
  "language_info": {
   "codemirror_mode": {
    "name": "ipython",
    "version": 3
   },
   "file_extension": ".py",
   "mimetype": "text/x-python",
   "name": "python",
   "nbconvert_exporter": "python",
   "pygments_lexer": "ipython3",
   "version": "3.6.1"
  }
 },
 "nbformat": 4,
 "nbformat_minor": 2
}
