{
 "cells": [
  {
   "cell_type": "markdown",
   "metadata": {},
   "source": [
    "## Entendendo as RDDs"
   ]
  },
  {
   "cell_type": "code",
   "execution_count": null,
   "metadata": {
    "collapsed": true
   },
   "outputs": [],
   "source": [
    "from pyspark import SparkContext\n",
    "sc = SparkContext.getOrCreate()"
   ]
  },
  {
   "cell_type": "code",
   "execution_count": null,
   "metadata": {},
   "outputs": [],
   "source": [
    "# Criação de uma RDD simples\n",
    "rdd1 = sc.parallelize([1, 2, 3])\n",
    "rdd1.collect()"
   ]
  },
  {
   "cell_type": "code",
   "execution_count": null,
   "metadata": {},
   "outputs": [],
   "source": [
    "# Utilizando o NumPy\n",
    "import numpy as np\n",
    "a = np.array(range(100))\n",
    "a"
   ]
  },
  {
   "cell_type": "code",
   "execution_count": null,
   "metadata": {},
   "outputs": [],
   "source": [
    "rdd2 = sc.parallelize(np.array(range(100)))\n",
    "rdd2.take(10)"
   ]
  },
  {
   "cell_type": "code",
   "execution_count": null,
   "metadata": {},
   "outputs": [],
   "source": [
    "# Verificando a paralelização\n",
    "# Observe que a paralelização da RDD não ocorreu. Ela não foi dividida\n",
    "rdd3 = sc.parallelize(np.array(range(100)))\n",
    "print(rdd3.glom().collect())"
   ]
  },
  {
   "cell_type": "markdown",
   "metadata": {},
   "source": [
    "## O particionamento das RDDs é feito por padrão pelo tamanho do cluster, mas também podemos especificar explicamento, de preferência com o número de cores do PC."
   ]
  },
  {
   "cell_type": "code",
   "execution_count": null,
   "metadata": {
    "collapsed": true
   },
   "outputs": [],
   "source": [
    "# Paralelizando explicitamento\n",
    "rdd4 = sc.parallelize(np.array(range(100)), 10)"
   ]
  },
  {
   "cell_type": "code",
   "execution_count": null,
   "metadata": {},
   "outputs": [],
   "source": [
    "# Verificando o paralelização\n",
    "print(rdd4.glom().collect())"
   ]
  },
  {
   "cell_type": "code",
   "execution_count": null,
   "metadata": {},
   "outputs": [],
   "source": [
    "print(rdd4.getNumPartitions())"
   ]
  },
  {
   "cell_type": "code",
   "execution_count": null,
   "metadata": {
    "collapsed": true
   },
   "outputs": [],
   "source": [
    "# Lendo O Primo Basilio - Eça de Queiroz\n",
    "rddBasilio = sc.textFile('Basilio.txt')"
   ]
  },
  {
   "cell_type": "code",
   "execution_count": null,
   "metadata": {
    "scrolled": true
   },
   "outputs": [],
   "source": [
    "print(rddBasilio.getNumPartitions())"
   ]
  },
  {
   "cell_type": "code",
   "execution_count": null,
   "metadata": {
    "collapsed": true
   },
   "outputs": [],
   "source": [
    "rddBasilioPart = sc.textFile('Basilio.txt', 100)"
   ]
  },
  {
   "cell_type": "code",
   "execution_count": null,
   "metadata": {},
   "outputs": [],
   "source": [
    "print(rddBasilioPart.getNumPartitions())"
   ]
  },
  {
   "cell_type": "code",
   "execution_count": null,
   "metadata": {},
   "outputs": [],
   "source": [
    "print(rddBasilioPart.glom().collect())"
   ]
  },
  {
   "cell_type": "markdown",
   "metadata": {},
   "source": [
    "## Leitura da Bíblia"
   ]
  },
  {
   "cell_type": "code",
   "execution_count": null,
   "metadata": {},
   "outputs": [],
   "source": [
    "# Verifique se o arquivo está em ANSI\n",
    "rddANSI = sc.textFile('Biblia-ANSI.txt')\n",
    "print(rddANSI.take(1000))"
   ]
  },
  {
   "cell_type": "code",
   "execution_count": null,
   "metadata": {},
   "outputs": [],
   "source": [
    "# Altere o arquivo para UTF-8\n",
    "rddBiblia = sc.textFile('Biblia-UTF8.txt')\n",
    "\n",
    "print(rddBiblia.take(1000))"
   ]
  },
  {
   "cell_type": "markdown",
   "metadata": {},
   "source": [
    "## Transformações\n",
    "\n",
    "1 - São operações em um RDD que devolvem um novo RDD\n",
    "\n",
    "2 - Normalmente executam uma função anônima (lambda) sobre cada um dos elementos do RDD\n",
    "\n",
    "3 - Operam sobre lazy"
   ]
  },
  {
   "cell_type": "markdown",
   "metadata": {},
   "source": [
    "## Utilizando o Intersect"
   ]
  },
  {
   "cell_type": "code",
   "execution_count": null,
   "metadata": {},
   "outputs": [],
   "source": [
    "dados1 = sc.parallelize(['A', 'B', 'C', 'D', 'E'])\n",
    "dados2 = sc.parallelize(['A', 'E', 'I', 'O', 'U'])\n",
    "\n",
    "result = dados1.intersection(dados2)\n",
    "result.take(10)"
   ]
  },
  {
   "cell_type": "code",
   "execution_count": null,
   "metadata": {},
   "outputs": [],
   "source": [
    "jose = rddBiblia.filter(lambda linha: 'José' in linha)"
   ]
  },
  {
   "cell_type": "code",
   "execution_count": null,
   "metadata": {
    "collapsed": true
   },
   "outputs": [],
   "source": [
    "maria = rddBiblia.filter(lambda linha: 'Maria' in linha)"
   ]
  },
  {
   "cell_type": "code",
   "execution_count": null,
   "metadata": {},
   "outputs": [],
   "source": [
    "biblia = jose.intersection(maria)"
   ]
  },
  {
   "cell_type": "markdown",
   "metadata": {},
   "source": [
    "## Ações\n",
    "\n",
    "1 - Devolvem um resultado\n",
    "\n",
    "2 - Faz todas as transformações anteriores serem executadas"
   ]
  },
  {
   "cell_type": "markdown",
   "metadata": {},
   "source": [
    "## Utilizando o takeSample para gerar amostras"
   ]
  },
  {
   "cell_type": "code",
   "execution_count": null,
   "metadata": {},
   "outputs": [],
   "source": [
    "# True - Possibilita elementos REPETIDOS\n",
    "# Numero - Indica o tamanho da amostra\n",
    "\n",
    "# Criando um RDD com range de números\n",
    "rdd5 = sc.parallelize(np.array(range(10)))\n",
    "\n",
    "# Contando o número de elementos\n",
    "contador = rdd5.count()\n",
    "\n",
    "# Imprimindo o número de elementos\n",
    "print('Número de elementos do range{0}'.format(contador))\n",
    "\n",
    "# utilizando um for para imprimir cada elemento\n",
    "for l in rdd5.takeSample(True, 8):\n",
    "    print(l)"
   ]
  },
  {
   "cell_type": "code",
   "execution_count": null,
   "metadata": {},
   "outputs": [],
   "source": [
    "type(rdd5)"
   ]
  },
  {
   "cell_type": "code",
   "execution_count": null,
   "metadata": {},
   "outputs": [],
   "source": [
    "lines = biblia.count()\n",
    "\n",
    "print('Número de linhas: {0}'.format(lines))\n",
    "\n",
    "for l in biblia.takeSample(False, 5):\n",
    "    print(l)"
   ]
  },
  {
   "cell_type": "code",
   "execution_count": null,
   "metadata": {},
   "outputs": [],
   "source": [
    "for l in biblia.takeSample(False, 8):\n",
    "    print(l)"
   ]
  },
  {
   "cell_type": "code",
   "execution_count": null,
   "metadata": {},
   "outputs": [],
   "source": [
    "for l in biblia.takeSample(True, 10):\n",
    "    print(l)"
   ]
  },
  {
   "cell_type": "markdown",
   "metadata": {},
   "source": [
    "## Compreendendo todo o código"
   ]
  },
  {
   "cell_type": "code",
   "execution_count": null,
   "metadata": {},
   "outputs": [],
   "source": [
    "# Aqui, criamos o RDD lendo do arquivo\n",
    "rddBiblia = sc.textFile('Biblia-UTF8.txt')\n",
    "\n",
    "# Criamos duas variáveis, utilizando filter e lambda, trazendo apenas as linhas com determinada palavra\n",
    "jose = rddBiblia.filter(lambda linha: 'José' in linha)\n",
    "maria = rddBiblia.filter(lambda linha: 'Maria' in linha)\n",
    "\n",
    "# Criamos uma variável int com o número de linhas da RD resultado da interseção\n",
    "lines = biblia.count()\n",
    "\n",
    "# Imprimimos o número de linhas\n",
    "print('Número de linhas com José e Maria {0}'.format(lines))\n",
    "\n",
    "# Iteramos a RDD com intersection utilizando takeSample, que retorna um objeto iterável\n",
    "for l in biblia.takeSample(False, 5):\n",
    "    print(l)"
   ]
  },
  {
   "cell_type": "markdown",
   "metadata": {},
   "source": [
    "## Podemos utilizar variáveis"
   ]
  },
  {
   "cell_type": "code",
   "execution_count": null,
   "metadata": {},
   "outputs": [],
   "source": [
    "rddBiblia = sc.textFile('Biblia-UTF8.txt')\n",
    "\n",
    "A = 'Jesus'\n",
    "B = 'Cristo'\n",
    "\n",
    "linhas1 = rddBiblia.filter(lambda linha: A in linha)\n",
    "linhas2 = rddBiblia.filter(lambda linha: B in linha)\n",
    "\n",
    "inter = linhas1.intersection(linhas2)\n",
    "\n",
    "lines = inter.count()\n",
    "\n",
    "print('Número de linhas: ' + str(lines))\n",
    "\n",
    "for l in inter.takeSample(False, 10):\n",
    "    print(l)"
   ]
  },
  {
   "cell_type": "markdown",
   "metadata": {},
   "source": [
    "## E se quisermos todas as linhas ?"
   ]
  },
  {
   "cell_type": "code",
   "execution_count": null,
   "metadata": {},
   "outputs": [],
   "source": [
    "A = 'Jesus'\n",
    "B = 'Cristo'\n",
    "\n",
    "linhas1 = rddBiblia.filter(lambda linha: A in linha)\n",
    "linhas2 = rddBiblia.filter(lambda linha: B in linha)\n",
    "\n",
    "inter = linhas1.intersection(linhas2)\n",
    "\n",
    "lines = inter.count()\n",
    "\n",
    "print('Número de linhas: ' + str(lines))\n",
    "\n",
    "inter.takeSample(False, lines)"
   ]
  },
  {
   "cell_type": "markdown",
   "metadata": {},
   "source": [
    "## podemos utilizar o collect()"
   ]
  },
  {
   "cell_type": "code",
   "execution_count": null,
   "metadata": {},
   "outputs": [],
   "source": [
    "# Podemos iterar ?\n",
    "A = 'Jesus'\n",
    "B = 'Cristo'\n",
    "\n",
    "linhas1 = rddBiblia.filter(lambda linha: A in linha)\n",
    "linhas2 = rddBiblia.filter(lambda linha: B in linha)\n",
    "\n",
    "inter = linhas1.intersection(linhas2)\n",
    "\n",
    "lines = inter.count()\n",
    "\n",
    "print('Número de linhas: ' + str(lines))\n",
    "print('Tipo da RDD inter: ' + str(type(inter)))\n",
    "\n",
    "for l in inter.collect():\n",
    "    print(l)"
   ]
  },
  {
   "cell_type": "code",
   "execution_count": null,
   "metadata": {},
   "outputs": [],
   "source": [
    "A = 'Jesus'\n",
    "B = 'Cristo'\n",
    "\n",
    "linhas1 = rddBiblia.filter(lambda linha: A in linha)\n",
    "linhas2 = rddBiblia.filter(lambda linha: B in linha)\n",
    "\n",
    "inter = linhas1.intersection(linhas2)\n",
    "\n",
    "lines = inter.count()\n",
    "\n",
    "print('Número de linhas: ' + str(lines))\n",
    "\n",
    "inter.collect()"
   ]
  }
 ],
 "metadata": {
  "kernelspec": {
   "display_name": "Python 3",
   "language": "python",
   "name": "python3"
  },
  "language_info": {
   "codemirror_mode": {
    "name": "ipython",
    "version": 3
   },
   "file_extension": ".py",
   "mimetype": "text/x-python",
   "name": "python",
   "nbconvert_exporter": "python",
   "pygments_lexer": "ipython3",
   "version": "3.6.1"
  }
 },
 "nbformat": 4,
 "nbformat_minor": 2
}
